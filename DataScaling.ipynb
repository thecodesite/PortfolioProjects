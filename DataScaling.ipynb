{
 "cells": [
  {
   "cell_type": "markdown",
   "id": "a32013e3",
   "metadata": {},
   "source": [
    "# Data preparation\n",
    "\n",
    "Data preparation is one of the main steps in the data analysis workflow, this task generally has three stages:\n",
    "\n",
    "* Data cleaning\n",
    "* **Data scaling**\n",
    "* Feature transformation\n",
    "\n",
    "This notebook shows the main techniques for performing data scaling."
   ]
  },
  {
   "cell_type": "code",
   "execution_count": 1,
   "id": "7bc37197",
   "metadata": {},
   "outputs": [],
   "source": [
    "import os\n",
    "import pandas as pd\n",
    "%matplotlib inline\n",
    "import matplotlib.pyplot as plt"
   ]
  },
  {
   "cell_type": "markdown",
   "id": "00682e10",
   "metadata": {},
   "source": [
    "**Load data**\n",
    "\n",
    "In this case we use a time series data set with 89 features used to train a classification machine learning model to predict a trading position on S&P 500 futures."
   ]
  },
  {
   "cell_type": "code",
   "execution_count": 2,
   "id": "0f135a03",
   "metadata": {},
   "outputs": [],
   "source": [
    "data_path = ['dataset']"
   ]
  },
  {
   "cell_type": "code",
   "execution_count": 3,
   "id": "6f4322ed",
   "metadata": {},
   "outputs": [
    {
     "data": {
      "text/html": [
       "<div>\n",
       "<style scoped>\n",
       "    .dataframe tbody tr th:only-of-type {\n",
       "        vertical-align: middle;\n",
       "    }\n",
       "\n",
       "    .dataframe tbody tr th {\n",
       "        vertical-align: top;\n",
       "    }\n",
       "\n",
       "    .dataframe thead th {\n",
       "        text-align: right;\n",
       "    }\n",
       "</style>\n",
       "<table border=\"1\" class=\"dataframe\">\n",
       "  <thead>\n",
       "    <tr style=\"text-align: right;\">\n",
       "      <th></th>\n",
       "      <th>Date</th>\n",
       "      <th>SPX_Close_1PR</th>\n",
       "      <th>SPX_Close_5PR</th>\n",
       "      <th>SPX_Close_10PR</th>\n",
       "      <th>SPX_Close_15PR</th>\n",
       "      <th>SPX_Close_20PR</th>\n",
       "      <th>SPX_Close_25PR</th>\n",
       "      <th>SPX_Close_SMA12_1PR</th>\n",
       "      <th>SPX_Close_SMA12_5PR</th>\n",
       "      <th>SPX_Close_SMA12_10PR</th>\n",
       "      <th>...</th>\n",
       "      <th>VVIX_Close_HV20</th>\n",
       "      <th>VVIX_Range_1P</th>\n",
       "      <th>VVIX_Range_5P</th>\n",
       "      <th>VVIX_Range_10P</th>\n",
       "      <th>VVIX_Range_20P</th>\n",
       "      <th>VVIX_VIX_Ratio</th>\n",
       "      <th>VVIX_VIX_HV10</th>\n",
       "      <th>VVIX_VIX_HV20</th>\n",
       "      <th>SPX_VIX_1PR_Correl_20P</th>\n",
       "      <th>Target_SAB1</th>\n",
       "    </tr>\n",
       "  </thead>\n",
       "  <tbody>\n",
       "    <tr>\n",
       "      <th>0</th>\n",
       "      <td>03/29/12 09:30 AM</td>\n",
       "      <td>-0.0067</td>\n",
       "      <td>-0.0032</td>\n",
       "      <td>-0.0073</td>\n",
       "      <td>-0.0133</td>\n",
       "      <td>-0.0150</td>\n",
       "      <td>-0.0149</td>\n",
       "      <td>-0.0008</td>\n",
       "      <td>-0.0036</td>\n",
       "      <td>-0.0084</td>\n",
       "      <td>...</td>\n",
       "      <td>0.8155</td>\n",
       "      <td>0.0111</td>\n",
       "      <td>0.0488</td>\n",
       "      <td>0.0548</td>\n",
       "      <td>0.0960</td>\n",
       "      <td>6.28</td>\n",
       "      <td>0.47</td>\n",
       "      <td>0.66</td>\n",
       "      <td>-0.9605</td>\n",
       "      <td>-1.0</td>\n",
       "    </tr>\n",
       "    <tr>\n",
       "      <th>1</th>\n",
       "      <td>03/29/12 10:00 AM</td>\n",
       "      <td>-0.0018</td>\n",
       "      <td>-0.0037</td>\n",
       "      <td>-0.0052</td>\n",
       "      <td>-0.0136</td>\n",
       "      <td>-0.0160</td>\n",
       "      <td>-0.0157</td>\n",
       "      <td>-0.0008</td>\n",
       "      <td>-0.0033</td>\n",
       "      <td>-0.0082</td>\n",
       "      <td>...</td>\n",
       "      <td>0.8134</td>\n",
       "      <td>0.0071</td>\n",
       "      <td>0.0474</td>\n",
       "      <td>0.0489</td>\n",
       "      <td>0.0961</td>\n",
       "      <td>6.24</td>\n",
       "      <td>0.51</td>\n",
       "      <td>0.66</td>\n",
       "      <td>-0.9525</td>\n",
       "      <td>1.0</td>\n",
       "    </tr>\n",
       "    <tr>\n",
       "      <th>2</th>\n",
       "      <td>03/29/12 10:30 AM</td>\n",
       "      <td>0.0012</td>\n",
       "      <td>-0.0051</td>\n",
       "      <td>-0.0049</td>\n",
       "      <td>-0.0111</td>\n",
       "      <td>-0.0154</td>\n",
       "      <td>-0.0149</td>\n",
       "      <td>-0.0007</td>\n",
       "      <td>-0.0032</td>\n",
       "      <td>-0.0080</td>\n",
       "      <td>...</td>\n",
       "      <td>0.8095</td>\n",
       "      <td>0.0127</td>\n",
       "      <td>0.0430</td>\n",
       "      <td>0.0491</td>\n",
       "      <td>0.0965</td>\n",
       "      <td>6.25</td>\n",
       "      <td>0.52</td>\n",
       "      <td>0.66</td>\n",
       "      <td>-0.9526</td>\n",
       "      <td>1.0</td>\n",
       "    </tr>\n",
       "    <tr>\n",
       "      <th>3</th>\n",
       "      <td>03/29/12 11:00 AM</td>\n",
       "      <td>-0.0015</td>\n",
       "      <td>-0.0068</td>\n",
       "      <td>-0.0057</td>\n",
       "      <td>-0.0121</td>\n",
       "      <td>-0.0175</td>\n",
       "      <td>-0.0170</td>\n",
       "      <td>-0.0005</td>\n",
       "      <td>-0.0031</td>\n",
       "      <td>-0.0075</td>\n",
       "      <td>...</td>\n",
       "      <td>0.8010</td>\n",
       "      <td>0.0065</td>\n",
       "      <td>0.0431</td>\n",
       "      <td>0.0491</td>\n",
       "      <td>0.0966</td>\n",
       "      <td>6.24</td>\n",
       "      <td>0.52</td>\n",
       "      <td>0.66</td>\n",
       "      <td>-0.9455</td>\n",
       "      <td>1.0</td>\n",
       "    </tr>\n",
       "    <tr>\n",
       "      <th>4</th>\n",
       "      <td>03/29/12 11:30 AM</td>\n",
       "      <td>-0.0004</td>\n",
       "      <td>-0.0091</td>\n",
       "      <td>-0.0055</td>\n",
       "      <td>-0.0105</td>\n",
       "      <td>-0.0175</td>\n",
       "      <td>-0.0174</td>\n",
       "      <td>-0.0006</td>\n",
       "      <td>-0.0033</td>\n",
       "      <td>-0.0071</td>\n",
       "      <td>...</td>\n",
       "      <td>0.7990</td>\n",
       "      <td>0.0065</td>\n",
       "      <td>0.0174</td>\n",
       "      <td>0.0488</td>\n",
       "      <td>0.0959</td>\n",
       "      <td>6.22</td>\n",
       "      <td>0.52</td>\n",
       "      <td>0.67</td>\n",
       "      <td>-0.9420</td>\n",
       "      <td>1.0</td>\n",
       "    </tr>\n",
       "  </tbody>\n",
       "</table>\n",
       "<p>5 rows × 91 columns</p>\n",
       "</div>"
      ],
      "text/plain": [
       "                Date  SPX_Close_1PR  SPX_Close_5PR  SPX_Close_10PR  \\\n",
       "0  03/29/12 09:30 AM        -0.0067        -0.0032         -0.0073   \n",
       "1  03/29/12 10:00 AM        -0.0018        -0.0037         -0.0052   \n",
       "2  03/29/12 10:30 AM         0.0012        -0.0051         -0.0049   \n",
       "3  03/29/12 11:00 AM        -0.0015        -0.0068         -0.0057   \n",
       "4  03/29/12 11:30 AM        -0.0004        -0.0091         -0.0055   \n",
       "\n",
       "   SPX_Close_15PR  SPX_Close_20PR  SPX_Close_25PR  SPX_Close_SMA12_1PR  \\\n",
       "0         -0.0133         -0.0150         -0.0149              -0.0008   \n",
       "1         -0.0136         -0.0160         -0.0157              -0.0008   \n",
       "2         -0.0111         -0.0154         -0.0149              -0.0007   \n",
       "3         -0.0121         -0.0175         -0.0170              -0.0005   \n",
       "4         -0.0105         -0.0175         -0.0174              -0.0006   \n",
       "\n",
       "   SPX_Close_SMA12_5PR  SPX_Close_SMA12_10PR  ...  VVIX_Close_HV20  \\\n",
       "0              -0.0036               -0.0084  ...           0.8155   \n",
       "1              -0.0033               -0.0082  ...           0.8134   \n",
       "2              -0.0032               -0.0080  ...           0.8095   \n",
       "3              -0.0031               -0.0075  ...           0.8010   \n",
       "4              -0.0033               -0.0071  ...           0.7990   \n",
       "\n",
       "   VVIX_Range_1P  VVIX_Range_5P  VVIX_Range_10P  VVIX_Range_20P  \\\n",
       "0         0.0111         0.0488          0.0548          0.0960   \n",
       "1         0.0071         0.0474          0.0489          0.0961   \n",
       "2         0.0127         0.0430          0.0491          0.0965   \n",
       "3         0.0065         0.0431          0.0491          0.0966   \n",
       "4         0.0065         0.0174          0.0488          0.0959   \n",
       "\n",
       "   VVIX_VIX_Ratio  VVIX_VIX_HV10  VVIX_VIX_HV20  SPX_VIX_1PR_Correl_20P  \\\n",
       "0            6.28           0.47           0.66                 -0.9605   \n",
       "1            6.24           0.51           0.66                 -0.9525   \n",
       "2            6.25           0.52           0.66                 -0.9526   \n",
       "3            6.24           0.52           0.66                 -0.9455   \n",
       "4            6.22           0.52           0.67                 -0.9420   \n",
       "\n",
       "   Target_SAB1  \n",
       "0         -1.0  \n",
       "1          1.0  \n",
       "2          1.0  \n",
       "3          1.0  \n",
       "4          1.0  \n",
       "\n",
       "[5 rows x 91 columns]"
      ]
     },
     "execution_count": 3,
     "metadata": {},
     "output_type": "execute_result"
    }
   ],
   "source": [
    "# Import the data using the file path\n",
    "filepath = os.sep.join(data_path + ['sab1_unscaled_2012_mar22.csv'])\n",
    "data = pd.read_csv(filepath, sep=',')\n",
    "data.head()"
   ]
  },
  {
   "cell_type": "markdown",
   "id": "2ccb28e3",
   "metadata": {},
   "source": [
    "**Lets plot a histogram of four features of the data set**"
   ]
  },
  {
   "cell_type": "code",
   "execution_count": 4,
   "id": "23a2f6ab",
   "metadata": {},
   "outputs": [
    {
     "name": "stderr",
     "output_type": "stream",
     "text": [
      "C:\\Users\\Jose\\AppData\\Local\\Temp/ipykernel_58308/2735264028.py:3: UserWarning: To output multiple subplots, the figure containing the passed axes is being cleared\n",
      "  data.iloc[:,71:75].hist(ax=ax1, bins=50, color = \"skyblue\", density=True)\n"
     ]
    },
    {
     "data": {
      "image/png": "[encoded data removed]",
      "text/plain": [
       "<Figure size 720x360 with 4 Axes>"
      ]
     },
     "metadata": {
      "needs_background": "light"
     },
     "output_type": "display_data"
    }
   ],
   "source": [
    "fig = plt.figure(figsize = (10,5))\n",
    "ax1 = fig.gca()\n",
    "data.iloc[:,71:75].hist(ax=ax1, bins=50, color = \"skyblue\", density=True)\n",
    "plt.suptitle('Raw data')\n",
    "plt.tight_layout()"
   ]
  },
  {
   "cell_type": "markdown",
   "id": "961af2e2",
   "metadata": {},
   "source": [
    "**Data scaling**\n",
    "\n",
    "To perform data scaling of the 89 features in the dataset, we use the python sklearn library, using the following techniques:\n",
    "\n",
    "* MinMaxScaler\n",
    "* StandardScaler\n",
    "* RobustScaler"
   ]
  },
  {
   "cell_type": "markdown",
   "id": "34aa3ca6",
   "metadata": {},
   "source": [
    "**MinMaxScaler**\n",
    "\n",
    "For each value in a feature, MinMaxScaler subtracts the minimum value in the feature and then divides by the range. The range is the difference between the original maximum and original minimum."
   ]
  },
  {
   "cell_type": "code",
   "execution_count": 5,
   "id": "17e440c0",
   "metadata": {},
   "outputs": [
    {
     "name": "stderr",
     "output_type": "stream",
     "text": [
      "C:\\Users\\Jose\\AppData\\Local\\Temp/ipykernel_58308/226669256.py:8: UserWarning: To output multiple subplots, the figure containing the passed axes is being cleared\n",
      "  data_m.iloc[:,71:75].hist(ax=ax1, bins=50, color = \"skyblue\", density=True)\n"
     ]
    },
    {
     "data": {
      "image/png": "[encoded data removed]",
      "text/plain": [
       "<Figure size 720x432 with 4 Axes>"
      ]
     },
     "metadata": {
      "needs_background": "light"
     },
     "output_type": "display_data"
    }
   ],
   "source": [
    "from sklearn.preprocessing import MinMaxScaler\n",
    "transformer_m = MinMaxScaler().fit(data.iloc[:,1:90])\n",
    "data_m= transformer_m.transform(data.iloc[:,1:90])\n",
    "data_m= pd.DataFrame(data_m,columns=data.iloc[1:1,1:90].columns)\n",
    "\n",
    "fig = plt.figure(figsize = (10,6))\n",
    "ax1 = fig.gca()\n",
    "data_m.iloc[:,71:75].hist(ax=ax1, bins=50, color = \"skyblue\", density=True)\n",
    "plt.suptitle('MinMaxScaler')\n",
    "plt.tight_layout()"
   ]
  },
  {
   "cell_type": "markdown",
   "id": "c8b9443a",
   "metadata": {},
   "source": [
    "**StandardScaler**\n",
    "\n",
    "StandardScaler standardizes a feature by subtracting the mean and then scaling to unit variance. Unit variance means dividing all the values by the standard deviation. StandardScaler does not meet the strict definition of scale I introduced earlier.\n",
    "\n",
    "StandardScaler results in a distribution with a standard deviation equal to 1. The variance is equal to 1 also, because variance = standard deviation squared. And 1 squared = 1.\n",
    "\n",
    "StandardScaler makes the mean of the distribution approximately 0.\n"
   ]
  },
  {
   "cell_type": "code",
   "execution_count": 6,
   "id": "e1db6ac6",
   "metadata": {},
   "outputs": [
    {
     "name": "stderr",
     "output_type": "stream",
     "text": [
      "C:\\Users\\Jose\\AppData\\Local\\Temp/ipykernel_58308/1674937153.py:8: UserWarning: To output multiple subplots, the figure containing the passed axes is being cleared\n",
      "  data_s.iloc[:,71:75].hist(ax=ax2, bins=50, color = \"skyblue\", density=True)\n"
     ]
    },
    {
     "data": {
      "image/png": "[encoded data removed]",
      "text/plain": [
       "<Figure size 720x432 with 4 Axes>"
      ]
     },
     "metadata": {
      "needs_background": "light"
     },
     "output_type": "display_data"
    }
   ],
   "source": [
    "from sklearn.preprocessing import StandardScaler\n",
    "transformer_s = StandardScaler().fit(data.iloc[:,1:90])\n",
    "data_s= transformer_s.transform(data.iloc[:,1:90])\n",
    "data_s= pd.DataFrame(data_s,columns=data.iloc[1:1,1:90].columns)\n",
    "\n",
    "fig = plt.figure(figsize = (10,6))\n",
    "ax2 = fig.gca()\n",
    "data_s.iloc[:,71:75].hist(ax=ax2, bins=50, color = \"skyblue\", density=True)\n",
    "plt.suptitle('StandardScaler')\n",
    "plt.tight_layout()"
   ]
  },
  {
   "cell_type": "markdown",
   "id": "b529cea6",
   "metadata": {},
   "source": [
    "**RobustScaler**\n",
    "\n",
    "RobustScaler transforms the feature vector by subtracting the median and then dividing by the interquartile range (75% value — 25% value).\n",
    "\n",
    "Use RobustScaler if you want to reduce the effects of outliers, relative to MinMaxScaler."
   ]
  },
  {
   "cell_type": "code",
   "execution_count": 7,
   "id": "fb9ad7a3",
   "metadata": {},
   "outputs": [
    {
     "name": "stderr",
     "output_type": "stream",
     "text": [
      "C:\\Users\\Jose\\AppData\\Local\\Temp/ipykernel_58308/4143129594.py:8: UserWarning: To output multiple subplots, the figure containing the passed axes is being cleared\n",
      "  data_r.iloc[:,71:75].hist(ax=ax3, bins=50, color = \"skyblue\", density=True)\n"
     ]
    },
    {
     "data": {
      "image/png": "[encoded data removed]",
      "text/plain": [
       "<Figure size 720x432 with 4 Axes>"
      ]
     },
     "metadata": {
      "needs_background": "light"
     },
     "output_type": "display_data"
    }
   ],
   "source": [
    "from sklearn.preprocessing import RobustScaler\n",
    "transformer_r = RobustScaler().fit(data.iloc[:,1:90])\n",
    "data_r= transformer_r.transform(data.iloc[:,1:90])\n",
    "data_r= pd.DataFrame(data_r,columns=data.iloc[1:1,1:90].columns)\n",
    "\n",
    "fig = plt.figure(figsize = (10,6))\n",
    "ax3 = fig.gca()\n",
    "data_r.iloc[:,71:75].hist(ax=ax3, bins=50, color = \"skyblue\", density=True)\n",
    "plt.suptitle('RobustScaler')\n",
    "plt.tight_layout()"
   ]
  },
  {
   "cell_type": "markdown",
   "id": "ef74318a",
   "metadata": {},
   "source": [
    "**Data scaling comparison**\n",
    "\n",
    "Below is a comparison of the raw data histogram and the different data scaling methods. In general, we can see that the scaling of StandardScaler and RobustScaler groups the data close to the zero value."
   ]
  },
  {
   "cell_type": "code",
   "execution_count": 8,
   "id": "4a5c2a0e",
   "metadata": {},
   "outputs": [
    {
     "data": {
      "image/png": "[encoded data removed]",
      "text/plain": [
       "<Figure size 720x432 with 4 Axes>"
      ]
     },
     "metadata": {
      "needs_background": "light"
     },
     "output_type": "display_data"
    }
   ],
   "source": [
    "var='VVIX'\n",
    "bins=50\n",
    "plt.figure(figsize = (10,6))\n",
    "\n",
    "#the figure has 1 row, 2 columns, and this plot is the first plot.\n",
    "#plot 1:\n",
    "plt.subplot(2, 2, 1)\n",
    "plt.hist(data[var],bins=bins, density=True)\n",
    "plt.axvline(x=0, color='r')\n",
    "plt.title('Raw data')\n",
    "\n",
    "#plot 2:\n",
    "plt.subplot(2, 2, 2)\n",
    "plt.hist(data_m[var], bins=bins, density=True)\n",
    "plt.axvline(x=0, color='r')\n",
    "plt.title('MinMaxScaler')\n",
    "\n",
    "#plot 3:\n",
    "plt.subplot(2, 2, 3)\n",
    "plt.hist(data_s[var], bins=bins, density=True)\n",
    "plt.axvline(x=0, color='r')\n",
    "plt.title('StandardScaler')\n",
    "\n",
    "#plot 4:\n",
    "plt.subplot(2, 2, 4)\n",
    "plt.hist(data_r[var], bins=bins, density=True)\n",
    "plt.axvline(x=0, color='r')\n",
    "plt.title('RobustScaler')\n",
    "\n",
    "plt.suptitle('Data scaling comparison of {}'.format(var))\n",
    "plt.tight_layout()"
   ]
  },
  {
   "cell_type": "code",
   "execution_count": 9,
   "id": "55a6c6de",
   "metadata": {},
   "outputs": [
    {
     "name": "stdout",
     "output_type": "stream",
     "text": [
      "p = 0\n",
      "The null hypothesis can be rejected\n"
     ]
    }
   ],
   "source": [
    "#p <= alpha: reject H0, not normal.\n",
    "#p > alpha: fail to reject H0, normal.\n",
    "\n",
    "import numpy as np\n",
    "from scipy import stats\n",
    "k2, p = stats.normaltest(data_r[var])\n",
    "alpha = 0.05\n",
    "print(\"p = {:g}\".format(p))\n",
    "if p < alpha:  # null hypothesis: x comes from a normal distribution\n",
    "    print(\"The null hypothesis can be rejected\")\n",
    "else:\n",
    "    print(\"The null hypothesis cannot be rejected\")"
   ]
  },
  {
   "cell_type": "markdown",
   "id": "622e3976",
   "metadata": {},
   "source": [
    "**Sources**\n",
    "\n",
    "[Scale, Standardize, or Normalize with Scikit-Learn](https://towardsdatascience.com/scale-standardize-or-normalize-with-scikit-learn-6ccc7d176a02#:~:text=RobustScaler%20transforms%20the%20feature%20vector,scale%20to%20the%20other%20features.)"
   ]
  }
 ],
 "metadata": {
  "kernelspec": {
   "display_name": "Python 3 (ipykernel)",
   "language": "python",
   "name": "python3"
  },
  "language_info": {
   "codemirror_mode": {
    "name": "ipython",
    "version": 3
   },
   "file_extension": ".py",
   "mimetype": "text/x-python",
   "name": "python",
   "nbconvert_exporter": "python",
   "pygments_lexer": "ipython3",
   "version": "3.9.7"
  }
 },
 "nbformat": 4,
 "nbformat_minor": 5
}
