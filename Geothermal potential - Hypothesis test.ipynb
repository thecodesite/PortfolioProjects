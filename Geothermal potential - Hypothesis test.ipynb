{
 "cells": [
  {
   "cell_type": "markdown",
   "id": "05259031",
   "metadata": {},
   "source": [
    "# Geothermal potential - temperature\n",
    "## Hypothesis test"
   ]
  },
  {
   "cell_type": "markdown",
   "id": "68690055",
   "metadata": {},
   "source": [
    "**Objective**\n",
    "\n",
    "Geothermal reservoirs with temperatures above 302 F are known to be classified as high-temperature reservoirs. And they are great for clean energy production. The goal of the data analysis is to determine whether the reservoirs described in our dataset can be classified as high-temperature reservoirs with a high degree of certainty."
   ]
  },
  {
   "cell_type": "markdown",
   "id": "2e0cfa96",
   "metadata": {},
   "source": [
    "**About the data**\n",
    "\n",
    "The dataset is related to the reservoir temperature history report of wells drilled on a field in South America. It contains two (**02**) features, reservoir temperature and the depth of temperature measurement. The dataset has **71** records."
   ]
  },
  {
   "cell_type": "markdown",
   "id": "dfacd422",
   "metadata": {},
   "source": [
    "**Data exploration**\n",
    "\n",
    "In this section, we check data consistency, identify missing and outliers values, describe the statistics of the features and set the target feature for our analysis. To perform this analysis we use some Python libraries such as Pandas, Numpy and Matplotlib."
   ]
  },
  {
   "cell_type": "markdown",
   "id": "00e4cba2",
   "metadata": {},
   "source": [
    "## Import libraries"
   ]
  },
  {
   "cell_type": "code",
   "execution_count": 7,
   "id": "7effee3e",
   "metadata": {},
   "outputs": [],
   "source": [
    "import pandas as pd\n",
    "import numpy as np\n",
    "import matplotlib.pyplot as plt\n",
    "from scipy.stats import norm\n",
    "from scipy import stats\n",
    "import seaborn as sns"
   ]
  },
  {
   "cell_type": "markdown",
   "id": "41e252d9",
   "metadata": {},
   "source": [
    "## Preprocessing data"
   ]
  },
  {
   "cell_type": "markdown",
   "id": "b493d75e",
   "metadata": {},
   "source": [
    "### Load data and create a dataframe"
   ]
  },
  {
   "cell_type": "code",
   "execution_count": 8,
   "id": "8ec9db10",
   "metadata": {},
   "outputs": [],
   "source": [
    "file=\"data.csv\""
   ]
  },
  {
   "cell_type": "code",
   "execution_count": 9,
   "id": "3553f097",
   "metadata": {},
   "outputs": [],
   "source": [
    "df=pd.read_csv(file)"
   ]
  },
  {
   "cell_type": "markdown",
   "id": "5e24f237",
   "metadata": {},
   "source": [
    "### Data exploration"
   ]
  },
  {
   "cell_type": "code",
   "execution_count": 4,
   "id": "b72fa4d3",
   "metadata": {},
   "outputs": [
    {
     "name": "stdout",
     "output_type": "stream",
     "text": [
      "<class 'pandas.core.frame.DataFrame'>\n",
      "RangeIndex: 71 entries, 0 to 70\n",
      "Data columns (total 2 columns):\n",
      " #   Column      Non-Null Count  Dtype  \n",
      "---  ------      --------------  -----  \n",
      " 0   Temp        71 non-null     float64\n",
      " 1   depth_feet  71 non-null     float64\n",
      "dtypes: float64(2)\n",
      "memory usage: 1.2 KB\n"
     ]
    }
   ],
   "source": [
    "df.info()"
   ]
  },
  {
   "cell_type": "markdown",
   "id": "efa1c1a3",
   "metadata": {},
   "source": [
    "Dataset has two features (Temp and depth_feet), 71 records, and there are not missing values\n",
    "\n",
    "---"
   ]
  },
  {
   "cell_type": "code",
   "execution_count": 5,
   "id": "7fd0f4bd",
   "metadata": {},
   "outputs": [
    {
     "data": {
      "text/html": [
       "<div>\n",
       "<style scoped>\n",
       "    .dataframe tbody tr th:only-of-type {\n",
       "        vertical-align: middle;\n",
       "    }\n",
       "\n",
       "    .dataframe tbody tr th {\n",
       "        vertical-align: top;\n",
       "    }\n",
       "\n",
       "    .dataframe thead th {\n",
       "        text-align: right;\n",
       "    }\n",
       "</style>\n",
       "<table border=\"1\" class=\"dataframe\">\n",
       "  <thead>\n",
       "    <tr style=\"text-align: right;\">\n",
       "      <th></th>\n",
       "      <th>Temp</th>\n",
       "      <th>depth_feet</th>\n",
       "    </tr>\n",
       "  </thead>\n",
       "  <tbody>\n",
       "    <tr>\n",
       "      <th>count</th>\n",
       "      <td>71.000000</td>\n",
       "      <td>71.000000</td>\n",
       "    </tr>\n",
       "    <tr>\n",
       "      <th>mean</th>\n",
       "      <td>291.983978</td>\n",
       "      <td>15114.790193</td>\n",
       "    </tr>\n",
       "    <tr>\n",
       "      <th>std</th>\n",
       "      <td>9.778567</td>\n",
       "      <td>770.037452</td>\n",
       "    </tr>\n",
       "    <tr>\n",
       "      <th>min</th>\n",
       "      <td>246.000000</td>\n",
       "      <td>13621.600745</td>\n",
       "    </tr>\n",
       "    <tr>\n",
       "      <th>25%</th>\n",
       "      <td>287.769200</td>\n",
       "      <td>14495.190000</td>\n",
       "    </tr>\n",
       "    <tr>\n",
       "      <th>50%</th>\n",
       "      <td>291.700000</td>\n",
       "      <td>15270.219362</td>\n",
       "    </tr>\n",
       "    <tr>\n",
       "      <th>75%</th>\n",
       "      <td>297.774000</td>\n",
       "      <td>15643.310000</td>\n",
       "    </tr>\n",
       "    <tr>\n",
       "      <th>max</th>\n",
       "      <td>316.936590</td>\n",
       "      <td>16923.000000</td>\n",
       "    </tr>\n",
       "  </tbody>\n",
       "</table>\n",
       "</div>"
      ],
      "text/plain": [
       "             Temp    depth_feet\n",
       "count   71.000000     71.000000\n",
       "mean   291.983978  15114.790193\n",
       "std      9.778567    770.037452\n",
       "min    246.000000  13621.600745\n",
       "25%    287.769200  14495.190000\n",
       "50%    291.700000  15270.219362\n",
       "75%    297.774000  15643.310000\n",
       "max    316.936590  16923.000000"
      ]
     },
     "execution_count": 5,
     "metadata": {},
     "output_type": "execute_result"
    }
   ],
   "source": [
    "df.describe()"
   ]
  },
  {
   "cell_type": "markdown",
   "id": "82eedcdc",
   "metadata": {},
   "source": [
    "In the above table, we can see the main statistics of our dataframe such as mean, standard deviation, max/min values, and so on.\n",
    "\n",
    "---"
   ]
  },
  {
   "cell_type": "markdown",
   "id": "eb4337ef",
   "metadata": {},
   "source": [
    "### Data visualization"
   ]
  },
  {
   "cell_type": "markdown",
   "id": "a628ec4a",
   "metadata": {},
   "source": [
    "Let's perform some charts to a better comprehension of the data."
   ]
  },
  {
   "cell_type": "code",
   "execution_count": 15,
   "id": "7d34e2f5",
   "metadata": {},
   "outputs": [
    {
     "data": {
      "image/png": "[encoded data removed]",
      "text/plain": [
       "<Figure size 432x288 with 1 Axes>"
      ]
     },
     "metadata": {
      "needs_background": "light"
     },
     "output_type": "display_data"
    }
   ],
   "source": [
    "# Scatter plot\n",
    "\n",
    "plt.scatter(df.iloc[:,0],df.iloc[:,1])\n",
    "\n",
    "title = \"Scatter Plot. Temp vs. Depth\"\n",
    "plt.title(title)\n",
    "\n",
    "plt.xlabel(\"Temperature\")\n",
    "plt.ylabel(\"Depth\")\n",
    "\n",
    "ax = plt.gca()\n",
    "ax.invert_yaxis()\n",
    "\n",
    "plt.show()"
   ]
  },
  {
   "cell_type": "markdown",
   "id": "ad7fb30d",
   "metadata": {},
   "source": [
    "As we can see on the scatter plot, the general behavior of temperature vs depth is correct because the temperature increase with more depth. Also, we can see two values of temperature that seem outliers."
   ]
  },
  {
   "cell_type": "code",
   "execution_count": 6,
   "id": "aad47faa",
   "metadata": {},
   "outputs": [
    {
     "data": {
      "image/png": "[encoded data removed]",
      "text/plain": [
       "<Figure size 432x288 with 1 Axes>"
      ]
     },
     "metadata": {
      "needs_background": "light"
     },
     "output_type": "display_data"
    }
   ],
   "source": [
    "# Hist Plot\n",
    "\n",
    "plt.hist(df.iloc[:,0], density=True)\n",
    "\n",
    "title = \"Hist Plot\"\n",
    "plt.title(title)\n",
    "\n",
    "plt.xlabel(\"Temperature\")\n",
    "plt.ylabel(\"PDF\")\n",
    "\n",
    "plt.show()"
   ]
  },
  {
   "cell_type": "markdown",
   "id": "5fe7c9f7",
   "metadata": {},
   "source": [
    "Let's to perform a box chart of the data"
   ]
  },
  {
   "cell_type": "code",
   "execution_count": 7,
   "id": "9918c408",
   "metadata": {},
   "outputs": [
    {
     "data": {
      "image/png": "[encoded data removed]",
      "text/plain": [
       "<Figure size 432x288 with 1 Axes>"
      ]
     },
     "metadata": {
      "needs_background": "light"
     },
     "output_type": "display_data"
    }
   ],
   "source": [
    "# Box Plot\n",
    "plt.boxplot(df.iloc[:,0])\n",
    "\n",
    "title = \"Box Plot\"\n",
    "plt.title(title)\n",
    "\n",
    "plt.ylabel(\"Temperature\")\n",
    "\n",
    "plt.show()"
   ]
  },
  {
   "cell_type": "markdown",
   "id": "903428e1",
   "metadata": {},
   "source": [
    "As we can clearly see on the Hist and Box plot, we have outliers values that we must identify and exclude from our dataset to perform our data analysis.\n",
    "\n",
    "---"
   ]
  },
  {
   "cell_type": "markdown",
   "id": "2e88dccc",
   "metadata": {},
   "source": [
    "### Compute the outliers values using interquartile method"
   ]
  },
  {
   "cell_type": "markdown",
   "id": "62890129",
   "metadata": {},
   "source": [
    "With the code below we identify the outliers values usisng interquartile method."
   ]
  },
  {
   "cell_type": "code",
   "execution_count": 8,
   "id": "1a94ee9a",
   "metadata": {},
   "outputs": [],
   "source": [
    "max, min, p25, p75 = df.iloc[:,0].max(), df.iloc[:,0].min(), np.percentile(df.iloc[:,0], 25), np.percentile(df.iloc[:,0], 75)"
   ]
  },
  {
   "cell_type": "code",
   "execution_count": 9,
   "id": "4c827053",
   "metadata": {},
   "outputs": [],
   "source": [
    "ll, hl = p25 - 1.5*(p75-p25), p75 + 1.5*(p75-p25)"
   ]
  },
  {
   "cell_type": "code",
   "execution_count": 10,
   "id": "f0391454",
   "metadata": {},
   "outputs": [
    {
     "data": {
      "text/plain": [
       "[246.0, 316.93659]"
      ]
     },
     "execution_count": 10,
     "metadata": {},
     "output_type": "execute_result"
    }
   ],
   "source": [
    "outliers=[]\n",
    "\n",
    "for x in df.iloc[:,0]:\n",
    "    if x > hl or x < ll:\n",
    "        outliers.append(x)            \n",
    "outliers        "
   ]
  },
  {
   "cell_type": "markdown",
   "id": "33622210",
   "metadata": {},
   "source": [
    "The dataset has 2 outliers values according the interquartile method."
   ]
  },
  {
   "cell_type": "markdown",
   "id": "8159f271",
   "metadata": {},
   "source": [
    "### Delete the outliers values"
   ]
  },
  {
   "cell_type": "code",
   "execution_count": 11,
   "id": "1232063e",
   "metadata": {},
   "outputs": [],
   "source": [
    "def remove_outlier(df_in,col_name):\n",
    "    q1 = df_in[col_name].quantile(0.25)\n",
    "    q3 = df_in[col_name].quantile(0.75)\n",
    "    iqr = q3-q1 #Interquartile range\n",
    "    fence_low  = q1-1.5*iqr\n",
    "    fence_high = q3+1.5*iqr\n",
    "    df_out = df_in.loc[(df_in[col_name] > fence_low) & (df_in[col_name] < fence_high)]\n",
    "    return df_out"
   ]
  },
  {
   "cell_type": "code",
   "execution_count": 12,
   "id": "96d8d70c",
   "metadata": {},
   "outputs": [
    {
     "name": "stdout",
     "output_type": "stream",
     "text": [
      "<class 'pandas.core.frame.DataFrame'>\n",
      "Int64Index: 69 entries, 0 to 70\n",
      "Data columns (total 1 columns):\n",
      " #   Column  Non-Null Count  Dtype  \n",
      "---  ------  --------------  -----  \n",
      " 0   Temp    69 non-null     float64\n",
      "dtypes: float64(1)\n",
      "memory usage: 1.1 KB\n"
     ]
    }
   ],
   "source": [
    "df=remove_outlier(df,'Temp')\n",
    "df.info()"
   ]
  },
  {
   "cell_type": "markdown",
   "id": "7389923a",
   "metadata": {},
   "source": [
    "Let's to perform a box and hist plot with the clean data"
   ]
  },
  {
   "cell_type": "code",
   "execution_count": 13,
   "id": "49901ba3",
   "metadata": {},
   "outputs": [
    {
     "data": {
      "image/png": "[encoded data removed]",
      "text/plain": [
       "<Figure size 432x288 with 1 Axes>"
      ]
     },
     "metadata": {
      "needs_background": "light"
     },
     "output_type": "display_data"
    }
   ],
   "source": [
    "# Hist Plot\n",
    "\n",
    "plt.hist(df.iloc[:,0], density=True)\n",
    "\n",
    "title = \"Hist Plot clean data\"\n",
    "plt.title(title)\n",
    "\n",
    "plt.xlabel(\"Temperature\")\n",
    "plt.ylabel(\"PDF\")\n",
    "\n",
    "plt.show()"
   ]
  },
  {
   "cell_type": "code",
   "execution_count": 14,
   "id": "50f120aa",
   "metadata": {},
   "outputs": [
    {
     "data": {
      "image/png": "[encoded data removed]",
      "text/plain": [
       "<Figure size 432x288 with 1 Axes>"
      ]
     },
     "metadata": {
      "needs_background": "light"
     },
     "output_type": "display_data"
    }
   ],
   "source": [
    "# Box Plot\n",
    "plt.boxplot(df.iloc[:,0])\n",
    "\n",
    "title = \"Box Plot clean data\"\n",
    "plt.title(title)\n",
    "\n",
    "plt.ylabel(\"Temperature\")\n",
    "\n",
    "plt.show()"
   ]
  },
  {
   "cell_type": "markdown",
   "id": "e9dbea9c",
   "metadata": {},
   "source": [
    "Now that we have our clean dataset, we can continue to perform the data analysis."
   ]
  },
  {
   "cell_type": "markdown",
   "id": "1da1318a",
   "metadata": {},
   "source": [
    "### Target feature"
   ]
  },
  {
   "cell_type": "markdown",
   "id": "6d23d567",
   "metadata": {},
   "source": [
    "According to the objective of the analysis, our target feature is temperature, so let us calculate the median and standard deviation of this sample as these data are needed to make our hypothesis test later."
   ]
  },
  {
   "cell_type": "code",
   "execution_count": 15,
   "id": "dadb88b2",
   "metadata": {},
   "outputs": [
    {
     "name": "stdout",
     "output_type": "stream",
     "text": [
      "292.2887801742062 7.621425357583482\n"
     ]
    }
   ],
   "source": [
    "Xhat, sigma = df.iloc[:,0].mean(), df.iloc[:,0].std()\n",
    "\n",
    "print(Xhat, sigma)"
   ]
  },
  {
   "cell_type": "markdown",
   "id": "4d2e4d17",
   "metadata": {},
   "source": [
    "Once we have been prepared the data, let's to perform a Hypothesis test."
   ]
  },
  {
   "cell_type": "markdown",
   "id": "cdf58593",
   "metadata": {},
   "source": [
    "## Hypothesis test\n",
    "\n",
    "There are three posisble hypothesis:\n",
    "\n",
    "---\n",
    "\n",
    "Hypothesis 1:\n",
    "\n",
    "$H_{0}$: $\\hat{X} = \\mu$\n",
    "\n",
    "$H_{1}$: $\\hat{X} \\neq \\mu$\n",
    "\n",
    "---\n",
    "\n",
    "Hypothesis 2:\n",
    "\n",
    "$H_{0}$: $\\hat{X} \\le \\mu$\n",
    "\n",
    "$H_{1}$: $\\hat{X} > \\mu$\n",
    "\n",
    "---\n",
    "\n",
    "Hypothesis 3:\n",
    "\n",
    "$H_{0}$: $\\hat{X} \\ge \\mu$\n",
    "\n",
    "$H_{1}$: $\\hat{X} < \\mu$\n",
    "\n",
    "---\n",
    "\n",
    "According to the objective of the analysis, we must probe the second hypothesis with a signifance value of 5%:\n",
    "\n",
    "**Null hypothesis:** The average oh the temperature of the sample (292.29F) is equal to or less than 302 F.\n",
    "\n",
    "**Alternative hypothesis:** The average oh the temperature of the sample (292.29F) is greater than 302 F."
   ]
  },
  {
   "cell_type": "markdown",
   "id": "292a1ce2",
   "metadata": {},
   "source": [
    "Data:\n",
    "\n",
    "$\\hat{X} = 292.29° F$\n",
    "\n",
    "$\\mu = 302° F$\n",
    "\n",
    "$s = 7.62° F$\n",
    "\n",
    "$\\alpha = 0.05$\n",
    "\n",
    "---"
   ]
  },
  {
   "cell_type": "markdown",
   "id": "2ffae4a7",
   "metadata": {},
   "source": [
    "To demostrate the alternative hypothesis &rarr; $H_{1}$: $\\hat{X} > \\mu$\n",
    "\n",
    "To do that we assume that the temperatures measurements are normally distributed."
   ]
  },
  {
   "cell_type": "markdown",
   "id": "b25bd6ad",
   "metadata": {},
   "source": [
    "###  Probability calculations"
   ]
  },
  {
   "cell_type": "code",
   "execution_count": 16,
   "id": "fba19587",
   "metadata": {},
   "outputs": [],
   "source": [
    "mu=302"
   ]
  },
  {
   "cell_type": "code",
   "execution_count": 17,
   "id": "e642c2ba",
   "metadata": {},
   "outputs": [
    {
     "name": "stdout",
     "output_type": "stream",
     "text": [
      "89.9%\n"
     ]
    }
   ],
   "source": [
    "# Cumulative probability\n",
    "cdf = norm.cdf(mu, Xhat, sigma)\n",
    "print(str(round(cdf*100, 1))+\"%\")"
   ]
  },
  {
   "cell_type": "code",
   "execution_count": 18,
   "id": "e9dd9fd9",
   "metadata": {},
   "outputs": [
    {
     "name": "stdout",
     "output_type": "stream",
     "text": [
      "10.1%\n"
     ]
    }
   ],
   "source": [
    "# Inverse cumulative probability\n",
    "sf=norm.sf(mu, Xhat, sigma)\n",
    "print(str(round(sf*100, 1))+\"%\")"
   ]
  },
  {
   "cell_type": "code",
   "execution_count": 19,
   "id": "f51fc9de",
   "metadata": {},
   "outputs": [
    {
     "name": "stdout",
     "output_type": "stream",
     "text": [
      "[1.27419995]\n",
      "[0.89870372]\n"
     ]
    }
   ],
   "source": [
    "vals = norm.ppf([cdf])\n",
    "print(vals)\n",
    "print(norm.cdf(vals))"
   ]
  },
  {
   "cell_type": "markdown",
   "id": "5ecb4f89",
   "metadata": {},
   "source": [
    "Let's to plot the results"
   ]
  },
  {
   "cell_type": "code",
   "execution_count": 20,
   "id": "a0f150cb",
   "metadata": {},
   "outputs": [],
   "source": [
    "#To plot the pdf and cdf results we must to sort the data scending\n",
    "x = df.sort_values(by=['Temp']).iloc[:,0]\n",
    "pdft = norm.pdf(x, Xhat, sigma)\n",
    "cdft = norm.cdf(x, Xhat, sigma)"
   ]
  },
  {
   "cell_type": "code",
   "execution_count": 21,
   "id": "d0c9d3fa",
   "metadata": {},
   "outputs": [
    {
     "data": {
      "image/png": "[encoded data removed]",
      "text/plain": [
       "<Figure size 432x288 with 1 Axes>"
      ]
     },
     "metadata": {
      "needs_background": "light"
     },
     "output_type": "display_data"
    }
   ],
   "source": [
    "# Plot the PDF.\n",
    "\n",
    "plt.plot(x, pdft, 'k', linewidth=3)\n",
    "\n",
    "plt.axvline(norm.mean(Xhat, sigma), color='k', linestyle='dashed', linewidth=1)\n",
    "\n",
    "plt.axvline(norm.ppf(0.95, Xhat, sigma), color='b', linestyle='dashed', linewidth=1)\n",
    "\n",
    "plt.axvline(norm.ppf(cdf, Xhat, sigma), color='r', linestyle='dashed', linewidth=1)\n",
    "\n",
    "title = \"PDF: Xhat = %.2f,  sigma = %.2f\" % (Xhat, sigma)\n",
    "plt.title(title)\n",
    "\n",
    "plt.xlabel(\"Temperature\")\n",
    "plt.ylabel(\"PDF\")\n",
    "\n",
    "plt.show()"
   ]
  },
  {
   "cell_type": "code",
   "execution_count": 22,
   "id": "fcdecc8a",
   "metadata": {},
   "outputs": [
    {
     "data": {
      "image/png": "[encoded data removed]",
      "text/plain": [
       "<Figure size 432x288 with 1 Axes>"
      ]
     },
     "metadata": {
      "needs_background": "light"
     },
     "output_type": "display_data"
    }
   ],
   "source": [
    "# Plot the CDF.\n",
    "\n",
    "plt.plot(x, cdft, 'k', linewidth=3)\n",
    "\n",
    "plt.axvline(norm.mean(Xhat, sigma), color='k', linestyle='dashed', linewidth=1)\n",
    "\n",
    "plt.axvline(norm.ppf(0.95, Xhat, sigma), color='b', linestyle='dashed', linewidth=1)\n",
    "\n",
    "plt.axvline(norm.ppf(cdf, Xhat, sigma), color='r', linestyle='dashed', linewidth=1)\n",
    "\n",
    "title = \"CDF: Xhat = %.2f,  sigma = %.2f\" % (Xhat, sigma)\n",
    "plt.title(title)\n",
    "\n",
    "plt.xlabel(\"Temperature\")\n",
    "plt.ylabel(\"CDF\")\n",
    "\n",
    "plt.show()"
   ]
  },
  {
   "attachments": {
    "image.png": {
     "image/png": "[encoded data removed]"
    }
   },
   "cell_type": "markdown",
   "id": "db83ebe2",
   "metadata": {},
   "source": [
    "According to the results, the cumulative probability of $\\hat{X} > \\mu$ is 89.9%, therefore we must **reject the alternative hypothesis** because it is less than 95%. (see PDF and CDF charts)\n",
    "\n",
    "![image.png](attachment:image.png)"
   ]
  },
  {
   "cell_type": "markdown",
   "id": "1fe10d01",
   "metadata": {},
   "source": [
    "Let's to compute what is the temperature value with $\\alpha = 0.05$."
   ]
  },
  {
   "cell_type": "code",
   "execution_count": 23,
   "id": "17471a95",
   "metadata": {},
   "outputs": [
    {
     "data": {
      "text/plain": [
       "304.8249093161673"
      ]
     },
     "execution_count": 23,
     "metadata": {},
     "output_type": "execute_result"
    }
   ],
   "source": [
    "ppf=norm.ppf(0.95, Xhat, sigma)\n",
    "ppf"
   ]
  },
  {
   "cell_type": "markdown",
   "id": "56961fb4",
   "metadata": {},
   "source": [
    "The temperature value with $\\alpha = 0.05$ is 304.82° F"
   ]
  },
  {
   "cell_type": "markdown",
   "id": "80d8749e",
   "metadata": {},
   "source": [
    "### Conclusion\n",
    "\n",
    "1. **Reject the alternative hypothesis** because the CFD is 89.9% and is less than 95% necessary.\n",
    "\n",
    "2. The average temperature of the sample must be 304.82 F to have 5% of significance."
   ]
  },
  {
   "cell_type": "markdown",
   "id": "c00aa220",
   "metadata": {},
   "source": [
    "Author: José Gregorio Pérez (perezjgg@gmail.com)\n",
    "March/2022"
   ]
  }
 ],
 "metadata": {
  "kernelspec": {
   "display_name": "Python 3 (ipykernel)",
   "language": "python",
   "name": "python3"
  },
  "language_info": {
   "codemirror_mode": {
    "name": "ipython",
    "version": 3
   },
   "file_extension": ".py",
   "mimetype": "text/x-python",
   "name": "python",
   "nbconvert_exporter": "python",
   "pygments_lexer": "ipython3",
   "version": "3.9.7"
  }
 },
 "nbformat": 4,
 "nbformat_minor": 5
}
